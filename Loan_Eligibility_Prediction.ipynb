{
  "cells": [
    {
      "cell_type": "markdown",
      "metadata": {
        "papermill": {
          "duration": 0.070772,
          "end_time": "2020-12-27T17:03:46.906995",
          "exception": false,
          "start_time": "2020-12-27T17:03:46.836223",
          "status": "completed"
        },
        "tags": [],
        "id": "sdovP-DZzQG4"
      },
      "source": [
        "<div class='text-center'>\n",
        "    <h1> Loan Eligibility Prediction   </h1>\n",
        "</div>\n"
      ]
    },
    {
      "cell_type": "markdown",
      "metadata": {
        "papermill": {
          "duration": 0.069702,
          "end_time": "2020-12-27T17:03:47.195615",
          "exception": false,
          "start_time": "2020-12-27T17:03:47.125913",
          "status": "completed"
        },
        "tags": [],
        "id": "qQXXDlnozQG6"
      },
      "source": [
        "### Predict customers are eligible for the loan and check whether what are the missing criteria to know why customer not getting loan to make there own house.\n",
        "\n",
        "\n",
        "\n",
        "--- \n",
        "\n",
        "> ### Steps are:\n",
        "\n",
        "\n",
        "- [**Gathering Data**](#1)\n",
        "- [**Exploratory Data Analysis**](#2)\n",
        "- [**Data Visualizations**](#3)\n",
        "- [**Traing the ML Model**](#4)\n",
        "- [**Predict Model**](#5)\n",
        "\n",
        "\n"
      ]
    },
    {
      "cell_type": "markdown",
      "metadata": {
        "papermill": {
          "duration": 0.069957,
          "end_time": "2020-12-27T17:03:47.335723",
          "exception": false,
          "start_time": "2020-12-27T17:03:47.265766",
          "status": "completed"
        },
        "tags": [],
        "id": "d55S_kHrzQG6"
      },
      "source": [
        "\n",
        "<img align=\"center\" src=\"https://media.istockphoto.com/id/1328126737/photo/sign-a-house-sale-agreement.jpg?s=612x612&w=0&k=20&c=Jk7YWa38JMJ5L5b3-U84m2T9_9TIsfIS30rjiGI8t3k=\" alt=\"House Loan\" />\n",
        "\n",
        "---\n",
        "\n",
        "<div class=\"text-danger\" >\n",
        "    <h4>Let's Say, You are the owner of the <b>Housing Finance Company</b> and you want to build your own model to predict the customers are applying for the home loan and company want to check and validate the customer are eligible for the home loan.\n",
        "    </h1>\n",
        "    So Lets see\n",
        "    </h1>\n",
        "</div>"
      ]
    },
    {
      "cell_type": "markdown",
      "metadata": {
        "papermill": {
          "duration": 0.071563,
          "end_time": "2020-12-27T17:03:47.753411",
          "exception": false,
          "start_time": "2020-12-27T17:03:47.681848",
          "status": "completed"
        },
        "tags": [],
        "id": "BpNhs5apzQG7"
      },
      "source": [
        "# Import Packages"
      ]
    },
    {
      "cell_type": "code",
      "execution_count": 2,
      "metadata": {
        "execution": {
          "iopub.execute_input": "2020-12-27T17:03:47.908349Z",
          "iopub.status.busy": "2020-12-27T17:03:47.907535Z",
          "iopub.status.idle": "2020-12-27T17:03:47.911309Z",
          "shell.execute_reply": "2020-12-27T17:03:47.910403Z"
        },
        "papermill": {
          "duration": 0.080851,
          "end_time": "2020-12-27T17:03:47.911470",
          "exception": false,
          "start_time": "2020-12-27T17:03:47.830619",
          "status": "completed"
        },
        "tags": [],
        "id": "m_HlgCglzQG7"
      },
      "outputs": [],
      "source": [
        "import numpy as np \n",
        "import pandas as pd \n",
        "import os"
      ]
    },
    {
      "cell_type": "markdown",
      "metadata": {
        "papermill": {
          "duration": 0.078962,
          "end_time": "2020-12-27T17:03:48.406805",
          "exception": false,
          "start_time": "2020-12-27T17:03:48.327843",
          "status": "completed"
        },
        "tags": [],
        "id": "yc3FKdBkzQG8"
      },
      "source": [
        "\n",
        "## Dataset Key Information.\n",
        "  \n",
        "---  \n",
        "  \n",
        "> - `Loan_ID`--------------> Unique Loan ID.\n",
        "- `Gender`   --------------> Male/ Female \n",
        "- `Married`  --------------> Applicant married (Y/N) \n",
        "- `Dependents` ------------> Number of dependents \n",
        "- `Education` -------------> Applicant Education (Graduate/ Under Graduate) \n",
        "- `Self_Employed` ---------> Self-employed (Y/N) \n",
        "- `ApplicantIncome` -------> Applicant income \n",
        "- `CoapplicantIncome` -----> Coapplicant income \n",
        "- `LoanAmount`  -----------> Loan amount in thousands \n",
        "- `Loan_Amount_Term` ------> Term of a loan in months \n",
        "- `Credit_History` --------> Credit history meets guidelines \n",
        "- `Property_Area` ---------> Urban/ Semi-Urban/ Rural \n",
        "- `Loan_Status` -----------> Loan approved (Y/N) "
      ]
    },
    {
      "cell_type": "markdown",
      "metadata": {
        "papermill": {
          "duration": 0.07649,
          "end_time": "2020-12-27T17:03:48.560451",
          "exception": false,
          "start_time": "2020-12-27T17:03:48.483961",
          "status": "completed"
        },
        "tags": [],
        "id": "2k64yITfzQG9"
      },
      "source": [
        "<a id=\"1\"></a><br>\n",
        "# 1. Gathering Data"
      ]
    },
    {
      "cell_type": "code",
      "execution_count": 4,
      "metadata": {
        "_cell_guid": "79c7e3d0-c299-4dcb-8224-4455121ee9b0",
        "_uuid": "d629ff2d2480ee46fbb7e2d37f6b5fab8052498a",
        "execution": {
          "iopub.execute_input": "2020-12-27T17:03:48.729066Z",
          "iopub.status.busy": "2020-12-27T17:03:48.728304Z",
          "iopub.status.idle": "2020-12-27T17:03:48.765790Z",
          "shell.execute_reply": "2020-12-27T17:03:48.764962Z"
        },
        "papermill": {
          "duration": 0.123016,
          "end_time": "2020-12-27T17:03:48.765941",
          "exception": false,
          "start_time": "2020-12-27T17:03:48.642925",
          "status": "completed"
        },
        "tags": [],
        "id": "pq3HPi9BzQG9"
      },
      "outputs": [],
      "source": [
        "loan_train = pd.read_csv('loan-train.csv')\n",
        "loan_test = pd.read_csv('loan-test.csv')"
      ]
    },
    {
      "cell_type": "code",
      "execution_count": 6,
      "metadata": {
        "execution": {
          "iopub.execute_input": "2020-12-27T17:03:49.097644Z",
          "iopub.status.busy": "2020-12-27T17:03:49.081762Z",
          "iopub.status.idle": "2020-12-27T17:03:49.116546Z",
          "shell.execute_reply": "2020-12-27T17:03:49.117028Z"
        },
        "papermill": {
          "duration": 0.125044,
          "end_time": "2020-12-27T17:03:49.117163",
          "exception": false,
          "start_time": "2020-12-27T17:03:48.992119",
          "status": "completed"
        },
        "tags": [],
        "colab": {
          "base_uri": "https://localhost:8080/",
          "height": 505
        },
        "id": "r-wyu1xGzQG9",
        "outputId": "81d17f15-37fb-4c98-c9d9-88a540ec8046"
      },
      "outputs": [
        {
          "output_type": "execute_result",
          "data": {
            "text/plain": [
              "      Loan_ID  Gender Married Dependents     Education Self_Employed  \\\n",
              "0    LP001002    Male      No          0      Graduate            No   \n",
              "1    LP001003    Male     Yes          1      Graduate            No   \n",
              "2    LP001005    Male     Yes          0      Graduate           Yes   \n",
              "3    LP001006    Male     Yes          0  Not Graduate            No   \n",
              "4    LP001008    Male      No          0      Graduate            No   \n",
              "..        ...     ...     ...        ...           ...           ...   \n",
              "609  LP002978  Female      No          0      Graduate            No   \n",
              "610  LP002979    Male     Yes         3+      Graduate            No   \n",
              "611  LP002983    Male     Yes          1      Graduate            No   \n",
              "612  LP002984    Male     Yes          2      Graduate            No   \n",
              "613  LP002990  Female      No          0      Graduate           Yes   \n",
              "\n",
              "     ApplicantIncome  CoapplicantIncome  LoanAmount  Loan_Amount_Term  \\\n",
              "0               5849                0.0         NaN             360.0   \n",
              "1               4583             1508.0       128.0             360.0   \n",
              "2               3000                0.0        66.0             360.0   \n",
              "3               2583             2358.0       120.0             360.0   \n",
              "4               6000                0.0       141.0             360.0   \n",
              "..               ...                ...         ...               ...   \n",
              "609             2900                0.0        71.0             360.0   \n",
              "610             4106                0.0        40.0             180.0   \n",
              "611             8072              240.0       253.0             360.0   \n",
              "612             7583                0.0       187.0             360.0   \n",
              "613             4583                0.0       133.0             360.0   \n",
              "\n",
              "     Credit_History Property_Area Loan_Status  \n",
              "0               1.0         Urban           Y  \n",
              "1               1.0         Rural           N  \n",
              "2               1.0         Urban           Y  \n",
              "3               1.0         Urban           Y  \n",
              "4               1.0         Urban           Y  \n",
              "..              ...           ...         ...  \n",
              "609             1.0         Rural           Y  \n",
              "610             1.0         Rural           Y  \n",
              "611             1.0         Urban           Y  \n",
              "612             1.0         Urban           Y  \n",
              "613             0.0     Semiurban           N  \n",
              "\n",
              "[614 rows x 13 columns]"
            ],
            "text/html": [
              "\n",
              "  <div id=\"df-beff8d9a-02de-4080-90d7-e2a8d008f3a0\">\n",
              "    <div class=\"colab-df-container\">\n",
              "      <div>\n",
              "<style scoped>\n",
              "    .dataframe tbody tr th:only-of-type {\n",
              "        vertical-align: middle;\n",
              "    }\n",
              "\n",
              "    .dataframe tbody tr th {\n",
              "        vertical-align: top;\n",
              "    }\n",
              "\n",
              "    .dataframe thead th {\n",
              "        text-align: right;\n",
              "    }\n",
              "</style>\n",
              "<table border=\"1\" class=\"dataframe\">\n",
              "  <thead>\n",
              "    <tr style=\"text-align: right;\">\n",
              "      <th></th>\n",
              "      <th>Loan_ID</th>\n",
              "      <th>Gender</th>\n",
              "      <th>Married</th>\n",
              "      <th>Dependents</th>\n",
              "      <th>Education</th>\n",
              "      <th>Self_Employed</th>\n",
              "      <th>ApplicantIncome</th>\n",
              "      <th>CoapplicantIncome</th>\n",
              "      <th>LoanAmount</th>\n",
              "      <th>Loan_Amount_Term</th>\n",
              "      <th>Credit_History</th>\n",
              "      <th>Property_Area</th>\n",
              "      <th>Loan_Status</th>\n",
              "    </tr>\n",
              "  </thead>\n",
              "  <tbody>\n",
              "    <tr>\n",
              "      <th>0</th>\n",
              "      <td>LP001002</td>\n",
              "      <td>Male</td>\n",
              "      <td>No</td>\n",
              "      <td>0</td>\n",
              "      <td>Graduate</td>\n",
              "      <td>No</td>\n",
              "      <td>5849</td>\n",
              "      <td>0.0</td>\n",
              "      <td>NaN</td>\n",
              "      <td>360.0</td>\n",
              "      <td>1.0</td>\n",
              "      <td>Urban</td>\n",
              "      <td>Y</td>\n",
              "    </tr>\n",
              "    <tr>\n",
              "      <th>1</th>\n",
              "      <td>LP001003</td>\n",
              "      <td>Male</td>\n",
              "      <td>Yes</td>\n",
              "      <td>1</td>\n",
              "      <td>Graduate</td>\n",
              "      <td>No</td>\n",
              "      <td>4583</td>\n",
              "      <td>1508.0</td>\n",
              "      <td>128.0</td>\n",
              "      <td>360.0</td>\n",
              "      <td>1.0</td>\n",
              "      <td>Rural</td>\n",
              "      <td>N</td>\n",
              "    </tr>\n",
              "    <tr>\n",
              "      <th>2</th>\n",
              "      <td>LP001005</td>\n",
              "      <td>Male</td>\n",
              "      <td>Yes</td>\n",
              "      <td>0</td>\n",
              "      <td>Graduate</td>\n",
              "      <td>Yes</td>\n",
              "      <td>3000</td>\n",
              "      <td>0.0</td>\n",
              "      <td>66.0</td>\n",
              "      <td>360.0</td>\n",
              "      <td>1.0</td>\n",
              "      <td>Urban</td>\n",
              "      <td>Y</td>\n",
              "    </tr>\n",
              "    <tr>\n",
              "      <th>3</th>\n",
              "      <td>LP001006</td>\n",
              "      <td>Male</td>\n",
              "      <td>Yes</td>\n",
              "      <td>0</td>\n",
              "      <td>Not Graduate</td>\n",
              "      <td>No</td>\n",
              "      <td>2583</td>\n",
              "      <td>2358.0</td>\n",
              "      <td>120.0</td>\n",
              "      <td>360.0</td>\n",
              "      <td>1.0</td>\n",
              "      <td>Urban</td>\n",
              "      <td>Y</td>\n",
              "    </tr>\n",
              "    <tr>\n",
              "      <th>4</th>\n",
              "      <td>LP001008</td>\n",
              "      <td>Male</td>\n",
              "      <td>No</td>\n",
              "      <td>0</td>\n",
              "      <td>Graduate</td>\n",
              "      <td>No</td>\n",
              "      <td>6000</td>\n",
              "      <td>0.0</td>\n",
              "      <td>141.0</td>\n",
              "      <td>360.0</td>\n",
              "      <td>1.0</td>\n",
              "      <td>Urban</td>\n",
              "      <td>Y</td>\n",
              "    </tr>\n",
              "    <tr>\n",
              "      <th>...</th>\n",
              "      <td>...</td>\n",
              "      <td>...</td>\n",
              "      <td>...</td>\n",
              "      <td>...</td>\n",
              "      <td>...</td>\n",
              "      <td>...</td>\n",
              "      <td>...</td>\n",
              "      <td>...</td>\n",
              "      <td>...</td>\n",
              "      <td>...</td>\n",
              "      <td>...</td>\n",
              "      <td>...</td>\n",
              "      <td>...</td>\n",
              "    </tr>\n",
              "    <tr>\n",
              "      <th>609</th>\n",
              "      <td>LP002978</td>\n",
              "      <td>Female</td>\n",
              "      <td>No</td>\n",
              "      <td>0</td>\n",
              "      <td>Graduate</td>\n",
              "      <td>No</td>\n",
              "      <td>2900</td>\n",
              "      <td>0.0</td>\n",
              "      <td>71.0</td>\n",
              "      <td>360.0</td>\n",
              "      <td>1.0</td>\n",
              "      <td>Rural</td>\n",
              "      <td>Y</td>\n",
              "    </tr>\n",
              "    <tr>\n",
              "      <th>610</th>\n",
              "      <td>LP002979</td>\n",
              "      <td>Male</td>\n",
              "      <td>Yes</td>\n",
              "      <td>3+</td>\n",
              "      <td>Graduate</td>\n",
              "      <td>No</td>\n",
              "      <td>4106</td>\n",
              "      <td>0.0</td>\n",
              "      <td>40.0</td>\n",
              "      <td>180.0</td>\n",
              "      <td>1.0</td>\n",
              "      <td>Rural</td>\n",
              "      <td>Y</td>\n",
              "    </tr>\n",
              "    <tr>\n",
              "      <th>611</th>\n",
              "      <td>LP002983</td>\n",
              "      <td>Male</td>\n",
              "      <td>Yes</td>\n",
              "      <td>1</td>\n",
              "      <td>Graduate</td>\n",
              "      <td>No</td>\n",
              "      <td>8072</td>\n",
              "      <td>240.0</td>\n",
              "      <td>253.0</td>\n",
              "      <td>360.0</td>\n",
              "      <td>1.0</td>\n",
              "      <td>Urban</td>\n",
              "      <td>Y</td>\n",
              "    </tr>\n",
              "    <tr>\n",
              "      <th>612</th>\n",
              "      <td>LP002984</td>\n",
              "      <td>Male</td>\n",
              "      <td>Yes</td>\n",
              "      <td>2</td>\n",
              "      <td>Graduate</td>\n",
              "      <td>No</td>\n",
              "      <td>7583</td>\n",
              "      <td>0.0</td>\n",
              "      <td>187.0</td>\n",
              "      <td>360.0</td>\n",
              "      <td>1.0</td>\n",
              "      <td>Urban</td>\n",
              "      <td>Y</td>\n",
              "    </tr>\n",
              "    <tr>\n",
              "      <th>613</th>\n",
              "      <td>LP002990</td>\n",
              "      <td>Female</td>\n",
              "      <td>No</td>\n",
              "      <td>0</td>\n",
              "      <td>Graduate</td>\n",
              "      <td>Yes</td>\n",
              "      <td>4583</td>\n",
              "      <td>0.0</td>\n",
              "      <td>133.0</td>\n",
              "      <td>360.0</td>\n",
              "      <td>0.0</td>\n",
              "      <td>Semiurban</td>\n",
              "      <td>N</td>\n",
              "    </tr>\n",
              "  </tbody>\n",
              "</table>\n",
              "<p>614 rows × 13 columns</p>\n",
              "</div>\n",
              "      <button class=\"colab-df-convert\" onclick=\"convertToInteractive('df-beff8d9a-02de-4080-90d7-e2a8d008f3a0')\"\n",
              "              title=\"Convert this dataframe to an interactive table.\"\n",
              "              style=\"display:none;\">\n",
              "        \n",
              "  <svg xmlns=\"http://www.w3.org/2000/svg\" height=\"24px\"viewBox=\"0 0 24 24\"\n",
              "       width=\"24px\">\n",
              "    <path d=\"M0 0h24v24H0V0z\" fill=\"none\"/>\n",
              "    <path d=\"M18.56 5.44l.94 2.06.94-2.06 2.06-.94-2.06-.94-.94-2.06-.94 2.06-2.06.94zm-11 1L8.5 8.5l.94-2.06 2.06-.94-2.06-.94L8.5 2.5l-.94 2.06-2.06.94zm10 10l.94 2.06.94-2.06 2.06-.94-2.06-.94-.94-2.06-.94 2.06-2.06.94z\"/><path d=\"M17.41 7.96l-1.37-1.37c-.4-.4-.92-.59-1.43-.59-.52 0-1.04.2-1.43.59L10.3 9.45l-7.72 7.72c-.78.78-.78 2.05 0 2.83L4 21.41c.39.39.9.59 1.41.59.51 0 1.02-.2 1.41-.59l7.78-7.78 2.81-2.81c.8-.78.8-2.07 0-2.86zM5.41 20L4 18.59l7.72-7.72 1.47 1.35L5.41 20z\"/>\n",
              "  </svg>\n",
              "      </button>\n",
              "      \n",
              "  <style>\n",
              "    .colab-df-container {\n",
              "      display:flex;\n",
              "      flex-wrap:wrap;\n",
              "      gap: 12px;\n",
              "    }\n",
              "\n",
              "    .colab-df-convert {\n",
              "      background-color: #E8F0FE;\n",
              "      border: none;\n",
              "      border-radius: 50%;\n",
              "      cursor: pointer;\n",
              "      display: none;\n",
              "      fill: #1967D2;\n",
              "      height: 32px;\n",
              "      padding: 0 0 0 0;\n",
              "      width: 32px;\n",
              "    }\n",
              "\n",
              "    .colab-df-convert:hover {\n",
              "      background-color: #E2EBFA;\n",
              "      box-shadow: 0px 1px 2px rgba(60, 64, 67, 0.3), 0px 1px 3px 1px rgba(60, 64, 67, 0.15);\n",
              "      fill: #174EA6;\n",
              "    }\n",
              "\n",
              "    [theme=dark] .colab-df-convert {\n",
              "      background-color: #3B4455;\n",
              "      fill: #D2E3FC;\n",
              "    }\n",
              "\n",
              "    [theme=dark] .colab-df-convert:hover {\n",
              "      background-color: #434B5C;\n",
              "      box-shadow: 0px 1px 3px 1px rgba(0, 0, 0, 0.15);\n",
              "      filter: drop-shadow(0px 1px 2px rgba(0, 0, 0, 0.3));\n",
              "      fill: #FFFFFF;\n",
              "    }\n",
              "  </style>\n",
              "\n",
              "      <script>\n",
              "        const buttonEl =\n",
              "          document.querySelector('#df-beff8d9a-02de-4080-90d7-e2a8d008f3a0 button.colab-df-convert');\n",
              "        buttonEl.style.display =\n",
              "          google.colab.kernel.accessAllowed ? 'block' : 'none';\n",
              "\n",
              "        async function convertToInteractive(key) {\n",
              "          const element = document.querySelector('#df-beff8d9a-02de-4080-90d7-e2a8d008f3a0');\n",
              "          const dataTable =\n",
              "            await google.colab.kernel.invokeFunction('convertToInteractive',\n",
              "                                                     [key], {});\n",
              "          if (!dataTable) return;\n",
              "\n",
              "          const docLinkHtml = 'Like what you see? Visit the ' +\n",
              "            '<a target=\"_blank\" href=https://colab.research.google.com/notebooks/data_table.ipynb>data table notebook</a>'\n",
              "            + ' to learn more about interactive tables.';\n",
              "          element.innerHTML = '';\n",
              "          dataTable['output_type'] = 'display_data';\n",
              "          await google.colab.output.renderOutput(dataTable, element);\n",
              "          const docLink = document.createElement('div');\n",
              "          docLink.innerHTML = docLinkHtml;\n",
              "          element.appendChild(docLink);\n",
              "        }\n",
              "      </script>\n",
              "    </div>\n",
              "  </div>\n",
              "  "
            ]
          },
          "metadata": {},
          "execution_count": 6
        }
      ],
      "source": [
        "#Display the first and last five rows from datasets\n",
        "\n",
        "loan_train"
      ]
    },
    {
      "cell_type": "code",
      "execution_count": 7,
      "metadata": {
        "execution": {
          "iopub.execute_input": "2020-12-27T17:03:49.663137Z",
          "iopub.status.busy": "2020-12-27T17:03:49.662209Z",
          "iopub.status.idle": "2020-12-27T17:03:49.668784Z",
          "shell.execute_reply": "2020-12-27T17:03:49.667922Z"
        },
        "papermill": {
          "duration": 0.086186,
          "end_time": "2020-12-27T17:03:49.668923",
          "exception": false,
          "start_time": "2020-12-27T17:03:49.582737",
          "status": "completed"
        },
        "tags": [],
        "colab": {
          "base_uri": "https://localhost:8080/"
        },
        "id": "lrYhhEMyzQG-",
        "outputId": "e159d268-da52-4f82-d94a-b7d63a9cd676"
      },
      "outputs": [
        {
          "output_type": "stream",
          "name": "stdout",
          "text": [
            "Rows:  614\n",
            "Columns:  13\n"
          ]
        }
      ],
      "source": [
        "# Find out how many records and columns are available in our dataset\n",
        "print(\"Rows: \", len(loan_train))\n",
        "print(\"Columns: \", len(loan_train.columns))"
      ]
    },
    {
      "cell_type": "markdown",
      "metadata": {
        "papermill": {
          "duration": 0.07596,
          "end_time": "2020-12-27T17:03:50.457812",
          "exception": false,
          "start_time": "2020-12-27T17:03:50.381852",
          "status": "completed"
        },
        "tags": [],
        "id": "k0v3quIAzQG-"
      },
      "source": [
        "> ### Next step we need to understand what kind of data we have."
      ]
    },
    {
      "cell_type": "code",
      "execution_count": 8,
      "metadata": {
        "execution": {
          "iopub.execute_input": "2020-12-27T17:03:50.770249Z",
          "iopub.status.busy": "2020-12-27T17:03:50.769231Z",
          "iopub.status.idle": "2020-12-27T17:03:50.774233Z",
          "shell.execute_reply": "2020-12-27T17:03:50.773413Z"
        },
        "papermill": {
          "duration": 0.087538,
          "end_time": "2020-12-27T17:03:50.774360",
          "exception": false,
          "start_time": "2020-12-27T17:03:50.686822",
          "status": "completed"
        },
        "tags": [],
        "colab": {
          "base_uri": "https://localhost:8080/"
        },
        "id": "l6qFHhO-zQG_",
        "outputId": "779dfe8a-15ef-4686-b1c4-54f4a278f004"
      },
      "outputs": [
        {
          "output_type": "execute_result",
          "data": {
            "text/plain": [
              "Index(['Loan_ID', 'Gender', 'Married', 'Dependents', 'Education',\n",
              "       'Self_Employed', 'ApplicantIncome', 'CoapplicantIncome', 'LoanAmount',\n",
              "       'Loan_Amount_Term', 'Credit_History', 'Property_Area', 'Loan_Status'],\n",
              "      dtype='object')"
            ]
          },
          "metadata": {},
          "execution_count": 8
        }
      ],
      "source": [
        "loan_train_columns = loan_train.columns # assign to a variable\n",
        "loan_train_columns # print the list of columns"
      ]
    },
    {
      "cell_type": "code",
      "execution_count": 9,
      "metadata": {
        "execution": {
          "iopub.execute_input": "2020-12-27T17:03:51.279462Z",
          "iopub.status.busy": "2020-12-27T17:03:51.278592Z",
          "iopub.status.idle": "2020-12-27T17:03:51.309487Z",
          "shell.execute_reply": "2020-12-27T17:03:51.310138Z"
        },
        "papermill": {
          "duration": 0.121748,
          "end_time": "2020-12-27T17:03:51.310310",
          "exception": false,
          "start_time": "2020-12-27T17:03:51.188562",
          "status": "completed"
        },
        "tags": [],
        "colab": {
          "base_uri": "https://localhost:8080/",
          "height": 300
        },
        "id": "LRCpDteuzQG_",
        "outputId": "f9a4179a-861b-43b3-a3f4-e4a8d9436da0"
      },
      "outputs": [
        {
          "output_type": "execute_result",
          "data": {
            "text/plain": [
              "       ApplicantIncome  CoapplicantIncome  LoanAmount  Loan_Amount_Term  \\\n",
              "count       614.000000         614.000000  592.000000         600.00000   \n",
              "mean       5403.459283        1621.245798  146.412162         342.00000   \n",
              "std        6109.041673        2926.248369   85.587325          65.12041   \n",
              "min         150.000000           0.000000    9.000000          12.00000   \n",
              "25%        2877.500000           0.000000  100.000000         360.00000   \n",
              "50%        3812.500000        1188.500000  128.000000         360.00000   \n",
              "75%        5795.000000        2297.250000  168.000000         360.00000   \n",
              "max       81000.000000       41667.000000  700.000000         480.00000   \n",
              "\n",
              "       Credit_History  \n",
              "count      564.000000  \n",
              "mean         0.842199  \n",
              "std          0.364878  \n",
              "min          0.000000  \n",
              "25%          1.000000  \n",
              "50%          1.000000  \n",
              "75%          1.000000  \n",
              "max          1.000000  "
            ],
            "text/html": [
              "\n",
              "  <div id=\"df-b423b90d-fee7-4ec2-a11c-fd56bf68bc36\">\n",
              "    <div class=\"colab-df-container\">\n",
              "      <div>\n",
              "<style scoped>\n",
              "    .dataframe tbody tr th:only-of-type {\n",
              "        vertical-align: middle;\n",
              "    }\n",
              "\n",
              "    .dataframe tbody tr th {\n",
              "        vertical-align: top;\n",
              "    }\n",
              "\n",
              "    .dataframe thead th {\n",
              "        text-align: right;\n",
              "    }\n",
              "</style>\n",
              "<table border=\"1\" class=\"dataframe\">\n",
              "  <thead>\n",
              "    <tr style=\"text-align: right;\">\n",
              "      <th></th>\n",
              "      <th>ApplicantIncome</th>\n",
              "      <th>CoapplicantIncome</th>\n",
              "      <th>LoanAmount</th>\n",
              "      <th>Loan_Amount_Term</th>\n",
              "      <th>Credit_History</th>\n",
              "    </tr>\n",
              "  </thead>\n",
              "  <tbody>\n",
              "    <tr>\n",
              "      <th>count</th>\n",
              "      <td>614.000000</td>\n",
              "      <td>614.000000</td>\n",
              "      <td>592.000000</td>\n",
              "      <td>600.00000</td>\n",
              "      <td>564.000000</td>\n",
              "    </tr>\n",
              "    <tr>\n",
              "      <th>mean</th>\n",
              "      <td>5403.459283</td>\n",
              "      <td>1621.245798</td>\n",
              "      <td>146.412162</td>\n",
              "      <td>342.00000</td>\n",
              "      <td>0.842199</td>\n",
              "    </tr>\n",
              "    <tr>\n",
              "      <th>std</th>\n",
              "      <td>6109.041673</td>\n",
              "      <td>2926.248369</td>\n",
              "      <td>85.587325</td>\n",
              "      <td>65.12041</td>\n",
              "      <td>0.364878</td>\n",
              "    </tr>\n",
              "    <tr>\n",
              "      <th>min</th>\n",
              "      <td>150.000000</td>\n",
              "      <td>0.000000</td>\n",
              "      <td>9.000000</td>\n",
              "      <td>12.00000</td>\n",
              "      <td>0.000000</td>\n",
              "    </tr>\n",
              "    <tr>\n",
              "      <th>25%</th>\n",
              "      <td>2877.500000</td>\n",
              "      <td>0.000000</td>\n",
              "      <td>100.000000</td>\n",
              "      <td>360.00000</td>\n",
              "      <td>1.000000</td>\n",
              "    </tr>\n",
              "    <tr>\n",
              "      <th>50%</th>\n",
              "      <td>3812.500000</td>\n",
              "      <td>1188.500000</td>\n",
              "      <td>128.000000</td>\n",
              "      <td>360.00000</td>\n",
              "      <td>1.000000</td>\n",
              "    </tr>\n",
              "    <tr>\n",
              "      <th>75%</th>\n",
              "      <td>5795.000000</td>\n",
              "      <td>2297.250000</td>\n",
              "      <td>168.000000</td>\n",
              "      <td>360.00000</td>\n",
              "      <td>1.000000</td>\n",
              "    </tr>\n",
              "    <tr>\n",
              "      <th>max</th>\n",
              "      <td>81000.000000</td>\n",
              "      <td>41667.000000</td>\n",
              "      <td>700.000000</td>\n",
              "      <td>480.00000</td>\n",
              "      <td>1.000000</td>\n",
              "    </tr>\n",
              "  </tbody>\n",
              "</table>\n",
              "</div>\n",
              "      <button class=\"colab-df-convert\" onclick=\"convertToInteractive('df-b423b90d-fee7-4ec2-a11c-fd56bf68bc36')\"\n",
              "              title=\"Convert this dataframe to an interactive table.\"\n",
              "              style=\"display:none;\">\n",
              "        \n",
              "  <svg xmlns=\"http://www.w3.org/2000/svg\" height=\"24px\"viewBox=\"0 0 24 24\"\n",
              "       width=\"24px\">\n",
              "    <path d=\"M0 0h24v24H0V0z\" fill=\"none\"/>\n",
              "    <path d=\"M18.56 5.44l.94 2.06.94-2.06 2.06-.94-2.06-.94-.94-2.06-.94 2.06-2.06.94zm-11 1L8.5 8.5l.94-2.06 2.06-.94-2.06-.94L8.5 2.5l-.94 2.06-2.06.94zm10 10l.94 2.06.94-2.06 2.06-.94-2.06-.94-.94-2.06-.94 2.06-2.06.94z\"/><path d=\"M17.41 7.96l-1.37-1.37c-.4-.4-.92-.59-1.43-.59-.52 0-1.04.2-1.43.59L10.3 9.45l-7.72 7.72c-.78.78-.78 2.05 0 2.83L4 21.41c.39.39.9.59 1.41.59.51 0 1.02-.2 1.41-.59l7.78-7.78 2.81-2.81c.8-.78.8-2.07 0-2.86zM5.41 20L4 18.59l7.72-7.72 1.47 1.35L5.41 20z\"/>\n",
              "  </svg>\n",
              "      </button>\n",
              "      \n",
              "  <style>\n",
              "    .colab-df-container {\n",
              "      display:flex;\n",
              "      flex-wrap:wrap;\n",
              "      gap: 12px;\n",
              "    }\n",
              "\n",
              "    .colab-df-convert {\n",
              "      background-color: #E8F0FE;\n",
              "      border: none;\n",
              "      border-radius: 50%;\n",
              "      cursor: pointer;\n",
              "      display: none;\n",
              "      fill: #1967D2;\n",
              "      height: 32px;\n",
              "      padding: 0 0 0 0;\n",
              "      width: 32px;\n",
              "    }\n",
              "\n",
              "    .colab-df-convert:hover {\n",
              "      background-color: #E2EBFA;\n",
              "      box-shadow: 0px 1px 2px rgba(60, 64, 67, 0.3), 0px 1px 3px 1px rgba(60, 64, 67, 0.15);\n",
              "      fill: #174EA6;\n",
              "    }\n",
              "\n",
              "    [theme=dark] .colab-df-convert {\n",
              "      background-color: #3B4455;\n",
              "      fill: #D2E3FC;\n",
              "    }\n",
              "\n",
              "    [theme=dark] .colab-df-convert:hover {\n",
              "      background-color: #434B5C;\n",
              "      box-shadow: 0px 1px 3px 1px rgba(0, 0, 0, 0.15);\n",
              "      filter: drop-shadow(0px 1px 2px rgba(0, 0, 0, 0.3));\n",
              "      fill: #FFFFFF;\n",
              "    }\n",
              "  </style>\n",
              "\n",
              "      <script>\n",
              "        const buttonEl =\n",
              "          document.querySelector('#df-b423b90d-fee7-4ec2-a11c-fd56bf68bc36 button.colab-df-convert');\n",
              "        buttonEl.style.display =\n",
              "          google.colab.kernel.accessAllowed ? 'block' : 'none';\n",
              "\n",
              "        async function convertToInteractive(key) {\n",
              "          const element = document.querySelector('#df-b423b90d-fee7-4ec2-a11c-fd56bf68bc36');\n",
              "          const dataTable =\n",
              "            await google.colab.kernel.invokeFunction('convertToInteractive',\n",
              "                                                     [key], {});\n",
              "          if (!dataTable) return;\n",
              "\n",
              "          const docLinkHtml = 'Like what you see? Visit the ' +\n",
              "            '<a target=\"_blank\" href=https://colab.research.google.com/notebooks/data_table.ipynb>data table notebook</a>'\n",
              "            + ' to learn more about interactive tables.';\n",
              "          element.innerHTML = '';\n",
              "          dataTable['output_type'] = 'display_data';\n",
              "          await google.colab.output.renderOutput(dataTable, element);\n",
              "          const docLink = document.createElement('div');\n",
              "          docLink.innerHTML = docLinkHtml;\n",
              "          element.appendChild(docLink);\n",
              "        }\n",
              "      </script>\n",
              "    </div>\n",
              "  </div>\n",
              "  "
            ]
          },
          "metadata": {},
          "execution_count": 9
        }
      ],
      "source": [
        "loan_train.describe()"
      ]
    },
    {
      "cell_type": "code",
      "execution_count": 11,
      "metadata": {
        "execution": {
          "iopub.execute_input": "2020-12-27T17:03:51.802051Z",
          "iopub.status.busy": "2020-12-27T17:03:51.800897Z",
          "iopub.status.idle": "2020-12-27T17:03:51.806064Z",
          "shell.execute_reply": "2020-12-27T17:03:51.805054Z"
        },
        "papermill": {
          "duration": 0.103738,
          "end_time": "2020-12-27T17:03:51.806241",
          "exception": false,
          "start_time": "2020-12-27T17:03:51.702503",
          "status": "completed"
        },
        "tags": [],
        "colab": {
          "base_uri": "https://localhost:8080/"
        },
        "id": "8MDMVPYczQG_",
        "outputId": "260e1f14-cfe7-4ecd-cf18-06cb7602a957"
      },
      "outputs": [
        {
          "output_type": "stream",
          "name": "stdout",
          "text": [
            "<class 'pandas.core.frame.DataFrame'>\n",
            "RangeIndex: 614 entries, 0 to 613\n",
            "Data columns (total 13 columns):\n",
            " #   Column             Non-Null Count  Dtype  \n",
            "---  ------             --------------  -----  \n",
            " 0   Loan_ID            614 non-null    object \n",
            " 1   Gender             601 non-null    object \n",
            " 2   Married            611 non-null    object \n",
            " 3   Dependents         599 non-null    object \n",
            " 4   Education          614 non-null    object \n",
            " 5   Self_Employed      582 non-null    object \n",
            " 6   ApplicantIncome    614 non-null    int64  \n",
            " 7   CoapplicantIncome  614 non-null    float64\n",
            " 8   LoanAmount         592 non-null    float64\n",
            " 9   Loan_Amount_Term   600 non-null    float64\n",
            " 10  Credit_History     564 non-null    float64\n",
            " 11  Property_Area      614 non-null    object \n",
            " 12  Loan_Status        614 non-null    object \n",
            "dtypes: float64(4), int64(1), object(8)\n",
            "memory usage: 62.5+ KB\n"
          ]
        }
      ],
      "source": [
        "loan_train.info()"
      ]
    },
    {
      "cell_type": "markdown",
      "metadata": {
        "papermill": {
          "duration": 0.087004,
          "end_time": "2020-12-27T17:03:52.144124",
          "exception": false,
          "start_time": "2020-12-27T17:03:52.057120",
          "status": "completed"
        },
        "tags": [],
        "id": "UZE1ARJ3zQHA"
      },
      "source": [
        "<a id=\"2\"></a><br>\n",
        "# 2. Exploratory Data Analysis\n",
        "\n",
        "In this section, We learn about extra information about data and it's characteristics.\n"
      ]
    },
    {
      "cell_type": "markdown",
      "metadata": {
        "papermill": {
          "duration": 0.084281,
          "end_time": "2020-12-27T17:03:52.308895",
          "exception": false,
          "start_time": "2020-12-27T17:03:52.224614",
          "status": "completed"
        },
        "tags": [],
        "id": "n8S38J_6zQHA"
      },
      "source": [
        "- First of all, We explore object type of data\n",
        "So let's make a function to know how many types of values available in the column"
      ]
    },
    {
      "cell_type": "code",
      "execution_count": 12,
      "metadata": {
        "execution": {
          "iopub.execute_input": "2020-12-27T17:03:52.484733Z",
          "iopub.status.busy": "2020-12-27T17:03:52.484049Z",
          "iopub.status.idle": "2020-12-27T17:03:52.488463Z",
          "shell.execute_reply": "2020-12-27T17:03:52.487784Z"
        },
        "papermill": {
          "duration": 0.094982,
          "end_time": "2020-12-27T17:03:52.488574",
          "exception": false,
          "start_time": "2020-12-27T17:03:52.393592",
          "status": "completed"
        },
        "tags": [],
        "id": "qNtOGseFzQHA"
      },
      "outputs": [],
      "source": [
        "def explore_object_type(df ,feature_name):\n",
        "    \"\"\"\n",
        "    To know, How many values available in object('categorical') type of features\n",
        "    And Return Categorical values with Count.\n",
        "    \"\"\"    \n",
        "    if df[feature_name].dtype ==  'object':\n",
        "        print(df[feature_name].value_counts())"
      ]
    },
    {
      "cell_type": "code",
      "execution_count": 15,
      "metadata": {
        "execution": {
          "iopub.execute_input": "2020-12-27T17:03:53.092070Z",
          "iopub.status.busy": "2020-12-27T17:03:53.091237Z",
          "iopub.status.idle": "2020-12-27T17:03:53.097739Z",
          "shell.execute_reply": "2020-12-27T17:03:53.096621Z"
        },
        "papermill": {
          "duration": 0.102506,
          "end_time": "2020-12-27T17:03:53.097906",
          "exception": false,
          "start_time": "2020-12-27T17:03:52.995400",
          "status": "completed"
        },
        "tags": [],
        "colab": {
          "base_uri": "https://localhost:8080/"
        },
        "id": "xymT6bsezQHB",
        "outputId": "0a178a8d-80b9-4a5c-c7a9-ac41f8dcab36"
      },
      "outputs": [
        {
          "output_type": "stream",
          "name": "stdout",
          "text": [
            "\n",
            "\"Loan_ID's\" Values with count are :\n",
            "LP001002    1\n",
            "LP002328    1\n",
            "LP002305    1\n",
            "LP002308    1\n",
            "LP002314    1\n",
            "           ..\n",
            "LP001692    1\n",
            "LP001693    1\n",
            "LP001698    1\n",
            "LP001699    1\n",
            "LP002990    1\n",
            "Name: Loan_ID, Length: 614, dtype: int64\n",
            "\n",
            "\"Gender's\" Values with count are :\n",
            "Male      489\n",
            "Female    112\n",
            "Name: Gender, dtype: int64\n",
            "\n",
            "\"Married's\" Values with count are :\n",
            "Yes    398\n",
            "No     213\n",
            "Name: Married, dtype: int64\n",
            "\n",
            "\"Dependents's\" Values with count are :\n",
            "0     345\n",
            "1     102\n",
            "2     101\n",
            "3+     51\n",
            "Name: Dependents, dtype: int64\n",
            "\n",
            "\"Education's\" Values with count are :\n",
            "Graduate        480\n",
            "Not Graduate    134\n",
            "Name: Education, dtype: int64\n",
            "\n",
            "\"Self_Employed's\" Values with count are :\n",
            "No     500\n",
            "Yes     82\n",
            "Name: Self_Employed, dtype: int64\n",
            "\n",
            "\"Property_Area's\" Values with count are :\n",
            "Semiurban    233\n",
            "Urban        202\n",
            "Rural        179\n",
            "Name: Property_Area, dtype: int64\n",
            "\n",
            "\"Loan_Status's\" Values with count are :\n",
            "Y    422\n",
            "N    192\n",
            "Name: Loan_Status, dtype: int64\n"
          ]
        }
      ],
      "source": [
        "\n",
        "# 'Loan_ID', 'Gender', 'Married', 'Dependents', 'Education', 'Self_Employed', 'Property_Area', 'Loan_Status'\n",
        "\n",
        "for featureName in loan_train_columns:\n",
        "    if loan_train[featureName].dtype == 'object':\n",
        "        print('\\n\"' + str(featureName) + '\\'s\" Values with count are :')\n",
        "        explore_object_type(loan_train, str(featureName))"
      ]
    },
    {
      "cell_type": "markdown",
      "metadata": {
        "papermill": {
          "duration": 0.084377,
          "end_time": "2020-12-27T17:03:53.611039",
          "exception": false,
          "start_time": "2020-12-27T17:03:53.526662",
          "status": "completed"
        },
        "tags": [],
        "id": "DIwvsBNezQHB"
      },
      "source": [
        "\n",
        "### - **Handle Null values**"
      ]
    },
    {
      "cell_type": "code",
      "execution_count": 16,
      "metadata": {
        "execution": {
          "iopub.execute_input": "2020-12-27T17:03:53.788552Z",
          "iopub.status.busy": "2020-12-27T17:03:53.787688Z",
          "iopub.status.idle": "2020-12-27T17:03:54.950714Z",
          "shell.execute_reply": "2020-12-27T17:03:54.950157Z"
        },
        "papermill": {
          "duration": 1.253165,
          "end_time": "2020-12-27T17:03:54.950827",
          "exception": false,
          "start_time": "2020-12-27T17:03:53.697662",
          "status": "completed"
        },
        "tags": [],
        "id": "jKJP8X-AzQHB"
      },
      "outputs": [],
      "source": [
        "import missingno as msno"
      ]
    },
    {
      "cell_type": "code",
      "execution_count": 18,
      "metadata": {
        "execution": {
          "iopub.execute_input": "2020-12-27T17:03:55.071414Z",
          "iopub.status.busy": "2020-12-27T17:03:55.070346Z",
          "iopub.status.idle": "2020-12-27T17:03:55.075130Z",
          "shell.execute_reply": "2020-12-27T17:03:55.075807Z"
        },
        "papermill": {
          "duration": 0.070217,
          "end_time": "2020-12-27T17:03:55.075988",
          "exception": false,
          "start_time": "2020-12-27T17:03:55.005771",
          "status": "completed"
        },
        "tags": [],
        "colab": {
          "base_uri": "https://localhost:8080/"
        },
        "id": "TW79bB5mzQHB",
        "outputId": "27014347-077c-43ee-80d8-f76f38185572"
      },
      "outputs": [
        {
          "output_type": "execute_result",
          "data": {
            "text/plain": [
              "Loan_ID               0\n",
              "Gender               13\n",
              "Married               3\n",
              "Dependents           15\n",
              "Education             0\n",
              "Self_Employed        32\n",
              "ApplicantIncome       0\n",
              "CoapplicantIncome     0\n",
              "LoanAmount           22\n",
              "Loan_Amount_Term     14\n",
              "Credit_History       50\n",
              "Property_Area         0\n",
              "Loan_Status           0\n",
              "dtype: int64"
            ]
          },
          "metadata": {},
          "execution_count": 18
        }
      ],
      "source": [
        "# list of how many percentage values are missing\n",
        "loan_train\n",
        "loan_train.isna().sum()"
      ]
    },
    {
      "cell_type": "code",
      "execution_count": 23,
      "metadata": {
        "execution": {
          "iopub.execute_input": "2020-12-27T17:03:57.083037Z",
          "iopub.status.busy": "2020-12-27T17:03:57.081285Z",
          "iopub.status.idle": "2020-12-27T17:03:57.088820Z",
          "shell.execute_reply": "2020-12-27T17:03:57.089302Z"
        },
        "papermill": {
          "duration": 0.078718,
          "end_time": "2020-12-27T17:03:57.089480",
          "exception": false,
          "start_time": "2020-12-27T17:03:57.010762",
          "status": "completed"
        },
        "tags": [],
        "id": "cCJZLAGDzQHC"
      },
      "outputs": [],
      "source": [
        "#Use mean amd mode to replace with NaN values.\n",
        "\n",
        "loan_train['Credit_History'].fillna(loan_train['Credit_History'].mode(), inplace=True) # Mode\n",
        "loan_test['Credit_History'].fillna(loan_test['Credit_History'].mode(), inplace=True) # Mode\n",
        "\n",
        "loan_train['LoanAmount'].fillna(loan_train['LoanAmount'].mean(), inplace=True) # Mean\n",
        "loan_test['LoanAmount'].fillna(loan_test['LoanAmount'].mean(), inplace=True) # Mean"
      ]
    },
    {
      "cell_type": "code",
      "execution_count": 24,
      "metadata": {
        "execution": {
          "iopub.execute_input": "2020-12-27T17:03:57.613039Z",
          "iopub.status.busy": "2020-12-27T17:03:57.607549Z",
          "iopub.status.idle": "2020-12-27T17:03:57.617049Z",
          "shell.execute_reply": "2020-12-27T17:03:57.616310Z"
        },
        "papermill": {
          "duration": 0.084405,
          "end_time": "2020-12-27T17:03:57.617174",
          "exception": false,
          "start_time": "2020-12-27T17:03:57.532769",
          "status": "completed"
        },
        "tags": [],
        "id": "L0AW65mFzQHC"
      },
      "outputs": [],
      "source": [
        "\n",
        "loan_train['Gender'].fillna(loan_train['Gender'].mode()[0], inplace=True)\n",
        "loan_test['Gender'].fillna(loan_test['Gender'].mode()[0], inplace=True)\n",
        "\n",
        "loan_train['Dependents'].fillna(loan_train['Dependents'].mode()[0], inplace=True)\n",
        "loan_test['Dependents'].fillna(loan_test['Dependents'].mode()[0], inplace=True)\n",
        "\n",
        "loan_train['Married'].fillna(loan_train['Married'].mode()[0], inplace=True)\n",
        "loan_test['Married'].fillna(loan_test['Married'].mode()[0], inplace=True)\n",
        "\n",
        "loan_train['Credit_History'].fillna(loan_train['Credit_History'].mean(), inplace=True)\n",
        "loan_test['Credit_History'].fillna(loan_test['Credit_History'].mean(), inplace=True)\n"
      ]
    },
    {
      "cell_type": "code",
      "execution_count": 21,
      "metadata": {
        "execution": {
          "iopub.execute_input": "2020-12-27T17:03:57.456284Z",
          "iopub.status.busy": "2020-12-27T17:03:57.453406Z",
          "iopub.status.idle": "2020-12-27T17:03:57.473090Z",
          "shell.execute_reply": "2020-12-27T17:03:57.472417Z"
        },
        "papermill": {
          "duration": 0.087958,
          "end_time": "2020-12-27T17:03:57.473204",
          "exception": false,
          "start_time": "2020-12-27T17:03:57.385246",
          "status": "completed"
        },
        "tags": [],
        "id": "SJ8JJNuqzQHC"
      },
      "outputs": [],
      "source": [
        "#Convert Categorical variable with Numerical values.\n",
        "\n",
        "loan_train.Loan_Status = loan_train.Loan_Status.replace({\"Y\": 1, \"N\" : 0})\n",
        "#loan_test.Loan_Status = loan_test.Loan_Status.replace({\"Y\": 1, \"N\" : 0}) \n",
        "\n",
        "loan_train.Gender = loan_train.Gender.replace({\"Male\": 1, \"Female\" : 0})\n",
        "loan_test.Gender = loan_test.Gender.replace({\"Male\": 1, \"Female\" : 0})\n",
        "\n",
        "loan_train.Married = loan_train.Married.replace({\"Yes\": 1, \"No\" : 0})\n",
        "loan_test.Married = loan_test.Married.replace({\"Yes\": 1, \"No\" : 0})\n",
        "\n",
        "loan_train.Self_Employed = loan_train.Self_Employed.replace({\"Yes\": 1, \"No\" : 0})\n",
        "loan_test.Self_Employed = loan_test.Self_Employed.replace({\"Yes\": 1, \"No\" : 0})\n"
      ]
    },
    {
      "cell_type": "code",
      "execution_count": 25,
      "metadata": {
        "execution": {
          "iopub.execute_input": "2020-12-27T17:03:57.973603Z",
          "iopub.status.busy": "2020-12-27T17:03:57.972716Z",
          "iopub.status.idle": "2020-12-27T17:03:58.041301Z",
          "shell.execute_reply": "2020-12-27T17:03:58.040451Z"
        },
        "papermill": {
          "duration": 0.161629,
          "end_time": "2020-12-27T17:03:58.041483",
          "exception": false,
          "start_time": "2020-12-27T17:03:57.879854",
          "status": "completed"
        },
        "tags": [],
        "id": "vu_qf2RJzQHC"
      },
      "outputs": [],
      "source": [
        "#This coulmns have multiple values so now we can use LabelEncoder\n",
        "from sklearn.preprocessing import LabelEncoder\n",
        "feature_col = ['Property_Area','Education', 'Dependents']\n",
        "le = LabelEncoder()\n",
        "for col in feature_col:\n",
        "    loan_train[col] = le.fit_transform(loan_train[col])\n",
        "    loan_test[col] = le.fit_transform(loan_test[col])"
      ]
    },
    {
      "cell_type": "markdown",
      "metadata": {
        "papermill": {
          "duration": 0.086055,
          "end_time": "2020-12-27T17:03:58.390697",
          "exception": false,
          "start_time": "2020-12-27T17:03:58.304642",
          "status": "completed"
        },
        "tags": [],
        "id": "ia-ZDvTNzQHD"
      },
      "source": [
        "<a id=\"3\"></a><br>\n",
        "# 3. Data Visualizations\n",
        "\n",
        "\n"
      ]
    },
    {
      "cell_type": "code",
      "execution_count": 45,
      "metadata": {
        "execution": {
          "iopub.execute_input": "2020-12-27T17:03:58.571707Z",
          "iopub.status.busy": "2020-12-27T17:03:58.570667Z",
          "iopub.status.idle": "2020-12-27T17:03:58.574995Z",
          "shell.execute_reply": "2020-12-27T17:03:58.574274Z"
        },
        "papermill": {
          "duration": 0.097964,
          "end_time": "2020-12-27T17:03:58.575136",
          "exception": false,
          "start_time": "2020-12-27T17:03:58.477172",
          "status": "completed"
        },
        "tags": [],
        "id": "W2BIc-rmzQHD"
      },
      "outputs": [],
      "source": [
        "import matplotlib.pyplot as plt\n",
        "%matplotlib inline\n",
        "\n",
        "\n",
        "import seaborn as sns\n",
        "sns.set_style('dark')\n"
      ]
    },
    {
      "cell_type": "code",
      "execution_count": 28,
      "metadata": {
        "execution": {
          "iopub.execute_input": "2020-12-27T17:03:58.984216Z",
          "iopub.status.busy": "2020-12-27T17:03:58.981194Z",
          "iopub.status.idle": "2020-12-27T17:03:59.486698Z",
          "shell.execute_reply": "2020-12-27T17:03:59.485858Z"
        },
        "papermill": {
          "duration": 0.599098,
          "end_time": "2020-12-27T17:03:59.486824",
          "exception": false,
          "start_time": "2020-12-27T17:03:58.887726",
          "status": "completed"
        },
        "tags": [],
        "colab": {
          "base_uri": "https://localhost:8080/",
          "height": 483
        },
        "id": "u0RxSCELzQHD",
        "outputId": "a96bdf8c-2f51-4dce-a1e4-29ab11aec445"
      },
      "outputs": [
        {
          "output_type": "display_data",
          "data": {
            "text/plain": [
              "<Figure size 1296x576 with 1 Axes>"
            ],
            "image/png": "[encoded data removed]"
          },
          "metadata": {}
        }
      ],
      "source": [
        "loan_train.plot(figsize=(18, 8))\n",
        "\n",
        "plt.show()"
      ]
    },
    {
      "cell_type": "code",
      "execution_count": 29,
      "metadata": {
        "execution": {
          "iopub.execute_input": "2020-12-27T17:03:59.809542Z",
          "iopub.status.busy": "2020-12-27T17:03:59.806567Z",
          "iopub.status.idle": "2020-12-27T17:04:00.526543Z",
          "shell.execute_reply": "2020-12-27T17:04:00.527251Z"
        },
        "papermill": {
          "duration": 0.948938,
          "end_time": "2020-12-27T17:04:00.527439",
          "exception": false,
          "start_time": "2020-12-27T17:03:59.578501",
          "status": "completed"
        },
        "tags": [],
        "colab": {
          "base_uri": "https://localhost:8080/",
          "height": 390
        },
        "id": "_UDd43SdzQHD",
        "outputId": "faef7312-835f-4d07-9ba2-453c1e4fe2fb"
      },
      "outputs": [
        {
          "output_type": "display_data",
          "data": {
            "text/plain": [
              "<Figure size 1296x432 with 2 Axes>"
            ],
            "image/png": "[encoded data removed]"
          },
          "metadata": {}
        }
      ],
      "source": [
        "plt.figure(figsize=(18, 6))\n",
        "plt.subplot(1, 2, 1)\n",
        "\n",
        "\n",
        "loan_train['ApplicantIncome'].hist(bins=10)\n",
        "plt.title(\"Loan Application Amount \")\n",
        "\n",
        "plt.subplot(1, 2, 2)\n",
        "plt.grid()\n",
        "plt.hist(np.log(loan_train['LoanAmount']))\n",
        "plt.title(\"Log Loan Application Amount \")\n",
        "\n",
        "plt.show()"
      ]
    },
    {
      "cell_type": "code",
      "execution_count": 30,
      "metadata": {
        "execution": {
          "iopub.execute_input": "2020-12-27T17:04:00.732972Z",
          "iopub.status.busy": "2020-12-27T17:04:00.726110Z",
          "iopub.status.idle": "2020-12-27T17:04:01.126270Z",
          "shell.execute_reply": "2020-12-27T17:04:01.125721Z"
        },
        "papermill": {
          "duration": 0.503814,
          "end_time": "2020-12-27T17:04:01.126410",
          "exception": false,
          "start_time": "2020-12-27T17:04:00.622596",
          "status": "completed"
        },
        "tags": [],
        "colab": {
          "base_uri": "https://localhost:8080/",
          "height": 404
        },
        "id": "7rL6tdMgzQHD",
        "outputId": "98cb5d11-fa20-452b-d3da-e7a3490d2e4e"
      },
      "outputs": [
        {
          "output_type": "display_data",
          "data": {
            "text/plain": [
              "<Figure size 1296x432 with 1 Axes>"
            ],
            "image/png": "[encoded data removed]"
          },
          "metadata": {}
        }
      ],
      "source": [
        "plt.figure(figsize=(18, 6))\n",
        "plt.title(\"Relation Between Applicatoin Income vs Loan Amount \")\n",
        "\n",
        "plt.grid()\n",
        "plt.scatter(loan_train['ApplicantIncome'] , loan_train['LoanAmount'], c='k', marker='x')\n",
        "plt.xlabel(\"Applicant Income\")\n",
        "plt.ylabel(\"Loan Amount\")\n",
        "plt.show()"
      ]
    },
    {
      "cell_type": "code",
      "execution_count": 33,
      "metadata": {
        "execution": {
          "iopub.execute_input": "2020-12-27T17:04:01.881675Z",
          "iopub.status.busy": "2020-12-27T17:04:01.880757Z",
          "iopub.status.idle": "2020-12-27T17:04:02.803789Z",
          "shell.execute_reply": "2020-12-27T17:04:02.804456Z"
        },
        "papermill": {
          "duration": 1.032103,
          "end_time": "2020-12-27T17:04:02.804622",
          "exception": false,
          "start_time": "2020-12-27T17:04:01.772519",
          "status": "completed"
        },
        "tags": [],
        "colab": {
          "base_uri": "https://localhost:8080/",
          "height": 574
        },
        "id": "yN6sDXzlzQHE",
        "outputId": "739ac314-84a3-4e18-9b18-b06314597158"
      },
      "outputs": [
        {
          "output_type": "display_data",
          "data": {
            "text/plain": [
              "<Figure size 864x576 with 2 Axes>"
            ],
            "image/png": "[encoded data removed]"
          },
          "metadata": {}
        }
      ],
      "source": [
        "#In this heatmap, we can clearly seen the relation between two variables \n",
        "\n",
        "plt.figure(figsize=(12,8))\n",
        "sns.heatmap(loan_train.corr(), cmap='coolwarm', annot=True, fmt='.1f', linewidths=.1)\n",
        "plt.show()"
      ]
    },
    {
      "cell_type": "markdown",
      "metadata": {
        "papermill": {
          "duration": 0.102392,
          "end_time": "2020-12-27T17:04:04.651094",
          "exception": false,
          "start_time": "2020-12-27T17:04:04.548702",
          "status": "completed"
        },
        "tags": [],
        "id": "h5Vi7p9BzQHF"
      },
      "source": [
        "<a id=\"4\"></a><br>\n",
        "# 4. Traing the ML Model"
      ]
    },
    {
      "cell_type": "code",
      "execution_count": 34,
      "metadata": {
        "execution": {
          "iopub.execute_input": "2020-12-27T17:04:03.673986Z",
          "iopub.status.busy": "2020-12-27T17:04:03.673106Z",
          "iopub.status.idle": "2020-12-27T17:04:03.821320Z",
          "shell.execute_reply": "2020-12-27T17:04:03.820599Z"
        },
        "papermill": {
          "duration": 0.262064,
          "end_time": "2020-12-27T17:04:03.821499",
          "exception": false,
          "start_time": "2020-12-27T17:04:03.559435",
          "status": "completed"
        },
        "tags": [],
        "id": "X-54sZTkzQHE"
      },
      "outputs": [],
      "source": [
        "\n",
        "from sklearn.linear_model import LogisticRegression\n",
        "\n",
        "from sklearn.metrics import accuracy_score\n"
      ]
    },
    {
      "cell_type": "code",
      "execution_count": 35,
      "metadata": {
        "execution": {
          "iopub.execute_input": "2020-12-27T17:04:04.441903Z",
          "iopub.status.busy": "2020-12-27T17:04:04.441057Z",
          "iopub.status.idle": "2020-12-27T17:04:04.445534Z",
          "shell.execute_reply": "2020-12-27T17:04:04.444630Z"
        },
        "papermill": {
          "duration": 0.112699,
          "end_time": "2020-12-27T17:04:04.445663",
          "exception": false,
          "start_time": "2020-12-27T17:04:04.332964",
          "status": "completed"
        },
        "tags": [],
        "id": "8qIwOHi4zQHF"
      },
      "outputs": [],
      "source": [
        "logistic_model = LogisticRegression()"
      ]
    },
    {
      "cell_type": "code",
      "execution_count": 36,
      "metadata": {
        "execution": {
          "iopub.execute_input": "2020-12-27T17:04:05.072524Z",
          "iopub.status.busy": "2020-12-27T17:04:05.071358Z",
          "iopub.status.idle": "2020-12-27T17:04:05.077668Z",
          "shell.execute_reply": "2020-12-27T17:04:05.076835Z"
        },
        "papermill": {
          "duration": 0.116909,
          "end_time": "2020-12-27T17:04:05.077797",
          "exception": false,
          "start_time": "2020-12-27T17:04:04.960888",
          "status": "completed"
        },
        "tags": [],
        "id": "-SFVn4MHzQHF"
      },
      "outputs": [],
      "source": [
        "#We are using Credit_History', 'Education', 'Gender features for training\n",
        "\n",
        "train_features = ['Credit_History', 'Education', 'Gender']\n",
        "\n",
        "x_train = loan_train[train_features].values\n",
        "y_train = loan_train['Loan_Status'].values\n",
        "\n",
        "x_test = loan_test[train_features].values\n"
      ]
    },
    {
      "cell_type": "code",
      "execution_count": 37,
      "metadata": {
        "execution": {
          "iopub.execute_input": "2020-12-27T17:04:05.293577Z",
          "iopub.status.busy": "2020-12-27T17:04:05.292868Z",
          "iopub.status.idle": "2020-12-27T17:04:05.311108Z",
          "shell.execute_reply": "2020-12-27T17:04:05.310256Z"
        },
        "papermill": {
          "duration": 0.12969,
          "end_time": "2020-12-27T17:04:05.311235",
          "exception": false,
          "start_time": "2020-12-27T17:04:05.181545",
          "status": "completed"
        },
        "tags": [],
        "colab": {
          "base_uri": "https://localhost:8080/"
        },
        "id": "GcE30rAxzQHF",
        "outputId": "ae45352a-449a-4edf-e1bb-b25f78e60ad2"
      },
      "outputs": [
        {
          "output_type": "execute_result",
          "data": {
            "text/plain": [
              "LogisticRegression()"
            ]
          },
          "metadata": {},
          "execution_count": 37
        }
      ],
      "source": [
        "logistic_model.fit(x_train, y_train)"
      ]
    },
    {
      "cell_type": "markdown",
      "metadata": {
        "papermill": {
          "duration": 0.103542,
          "end_time": "2020-12-27T17:04:05.725284",
          "exception": false,
          "start_time": "2020-12-27T17:04:05.621742",
          "status": "completed"
        },
        "tags": [],
        "id": "cgjyYG8azQHF"
      },
      "source": [
        "<a id=\"5\"></a><br>\n",
        "# 5. Predict Model"
      ]
    },
    {
      "cell_type": "code",
      "execution_count": 38,
      "metadata": {
        "execution": {
          "iopub.execute_input": "2020-12-27T17:04:05.940324Z",
          "iopub.status.busy": "2020-12-27T17:04:05.939490Z",
          "iopub.status.idle": "2020-12-27T17:04:05.944038Z",
          "shell.execute_reply": "2020-12-27T17:04:05.943294Z"
        },
        "papermill": {
          "duration": 0.114469,
          "end_time": "2020-12-27T17:04:05.944174",
          "exception": false,
          "start_time": "2020-12-27T17:04:05.829705",
          "status": "completed"
        },
        "tags": [],
        "id": "wvmtPnEczQHF"
      },
      "outputs": [],
      "source": [
        "# Predict the model for testin data\n",
        "\n",
        "predicted = logistic_model.predict(x_test)\n"
      ]
    },
    {
      "cell_type": "code",
      "execution_count": 41,
      "metadata": {
        "execution": {
          "iopub.execute_input": "2020-12-27T17:04:06.539720Z",
          "iopub.status.busy": "2020-12-27T17:04:06.538658Z",
          "iopub.status.idle": "2020-12-27T17:04:06.546360Z",
          "shell.execute_reply": "2020-12-27T17:04:06.545655Z"
        },
        "papermill": {
          "duration": 0.088395,
          "end_time": "2020-12-27T17:04:06.546517",
          "exception": false,
          "start_time": "2020-12-27T17:04:06.458122",
          "status": "completed"
        },
        "tags": [],
        "colab": {
          "base_uri": "https://localhost:8080/"
        },
        "id": "3Hph5-JXzQHG",
        "outputId": "369aadca-b548-4f86-c157-1d27cd1b2b93"
      },
      "outputs": [
        {
          "output_type": "stream",
          "name": "stdout",
          "text": [
            "accuracy_score overall : 0.8094462540716613\n",
            "accuracy_score percent : 80.94\n"
          ]
        }
      ],
      "source": [
        "# Accuray Score on train dataset\n",
        "# accuracy_train = accuracy_score(x_test, predicted)\n",
        "score = logistic_model.score(x_train, y_train)\n",
        "print('accuracy_score overall :', score)\n",
        "print('accuracy_score percent :', round(score*100,2))\n"
      ]
    },
    {
      "cell_type": "code",
      "execution_count": 42,
      "metadata": {
        "execution": {
          "iopub.execute_input": "2020-12-27T17:04:06.780017Z",
          "iopub.status.busy": "2020-12-27T17:04:06.779105Z",
          "iopub.status.idle": "2020-12-27T17:04:06.783959Z",
          "shell.execute_reply": "2020-12-27T17:04:06.782779Z"
        },
        "papermill": {
          "duration": 0.125576,
          "end_time": "2020-12-27T17:04:06.784132",
          "exception": false,
          "start_time": "2020-12-27T17:04:06.658556",
          "status": "completed"
        },
        "tags": [],
        "colab": {
          "base_uri": "https://localhost:8080/"
        },
        "id": "dWkpiOG3zQHG",
        "outputId": "99249006-c051-4df2-897e-e1fb474690fa"
      },
      "outputs": [
        {
          "output_type": "stream",
          "name": "stdout",
          "text": [
            "Target on test data [1 1 1 1 1 1 1 0 1 1 1 1 1 0 1 1 1 1 1 1 1 1 1 1 1 0 1 1 1 1 1 1 1 1 1 0 1\n",
            " 1 1 1 1 1 1 1 1 1 1 1 1 1 1 1 1 1 1 0 1 1 0 1 1 1 1 0 1 1 0 0 1 0 1 1 1 1\n",
            " 1 1 1 1 1 1 0 1 0 1 0 1 1 1 1 1 1 1 1 1 0 1 1 1 1 1 1 0 1 1 1 1 0 1 1 1 1\n",
            " 1 1 1 1 1 1 0 0 0 1 1 1 0 0 1 0 1 1 1 1 1 1 1 1 1 1 1 1 1 0 1 0 1 1 1 1 0\n",
            " 1 1 1 1 1 0 1 1 1 1 1 1 1 0 1 1 1 0 0 1 0 1 1 1 1 0 0 1 1 1 1 1 1 1 1 1 1\n",
            " 1 1 1 1 1 1 1 0 0 1 1 0 1 0 1 1 1 1 1 1 1 1 1 1 1 1 0 1 1 1 1 1 1 1 1 1 1\n",
            " 1 1 0 1 1 1 1 0 1 1 1 1 1 0 0 1 1 1 1 0 1 0 1 0 1 1 1 1 0 1 1 1 1 0 1 1 1\n",
            " 1 1 1 1 1 1 1 0 1 0 1 1 1 1 0 0 1 1 1 0 1 1 1 1 1 1 1 1 1 1 1 1 1 1 0 1 1\n",
            " 1 1 1 1 1 0 1 1 1 1 1 1 1 1 1 0 1 1 1 1 1 0 1 1 1 1 1 1 1 0 1 1 1 1 1 1 1\n",
            " 1 1 1 1 1 1 0 1 1 1 1 1 1 0 1 1 1 1 1 1 1 0 1 1 1 1 1 1 1 1 1 1 1 1]\n"
          ]
        }
      ],
      "source": [
        "# predict the target on the test dataset\n",
        "predict_test = logistic_model.predict(x_test)\n",
        "print('Target on test data',predict_test) \n"
      ]
    },
    {
      "cell_type": "code",
      "execution_count": 43,
      "metadata": {
        "execution": {
          "iopub.execute_input": "2020-12-27T17:04:07.442120Z",
          "iopub.status.busy": "2020-12-27T17:04:07.441281Z",
          "iopub.status.idle": "2020-12-27T17:04:07.444943Z",
          "shell.execute_reply": "2020-12-27T17:04:07.444190Z"
        },
        "papermill": {
          "duration": 0.114609,
          "end_time": "2020-12-27T17:04:07.445065",
          "exception": false,
          "start_time": "2020-12-27T17:04:07.330456",
          "status": "completed"
        },
        "tags": [],
        "id": "RyNXeRmzzQHG"
      },
      "outputs": [],
      "source": [
        "import pickle as pkl"
      ]
    },
    {
      "cell_type": "code",
      "execution_count": 44,
      "metadata": {
        "execution": {
          "iopub.execute_input": "2020-12-27T17:04:07.664428Z",
          "iopub.status.busy": "2020-12-27T17:04:07.663475Z",
          "iopub.status.idle": "2020-12-27T17:04:07.667844Z",
          "shell.execute_reply": "2020-12-27T17:04:07.667127Z"
        },
        "papermill": {
          "duration": 0.115894,
          "end_time": "2020-12-27T17:04:07.667951",
          "exception": false,
          "start_time": "2020-12-27T17:04:07.552057",
          "status": "completed"
        },
        "tags": [],
        "id": "BoGg9tamzQHG"
      },
      "outputs": [],
      "source": [
        "# save the model to disk\n",
        "filename = 'logistic_model.pkl'\n",
        "pkl.dump(logistic_model, open(filename, 'wb')) # wb means write as binary\n",
        "\n",
        "\n"
      ]
    }
  ],
  "metadata": {
    "kernelspec": {
      "display_name": "Python 3",
      "language": "python",
      "name": "python3"
    },
    "language_info": {
      "codemirror_mode": {
        "name": "ipython",
        "version": 3
      },
      "file_extension": ".py",
      "mimetype": "text/x-python",
      "name": "python",
      "nbconvert_exporter": "python",
      "pygments_lexer": "ipython3",
      "version": "3.7.6"
    },
    "papermill": {
      "duration": 26.564481,
      "end_time": "2020-12-27T17:04:08.309557",
      "environment_variables": {},
      "exception": null,
      "input_path": "__notebook__.ipynb",
      "output_path": "__notebook__.ipynb",
      "parameters": {},
      "start_time": "2020-12-27T17:03:41.745076",
      "version": "2.1.0"
    },
    "colab": {
      "provenance": []
    }
  },
  "nbformat": 4,
  "nbformat_minor": 0
}